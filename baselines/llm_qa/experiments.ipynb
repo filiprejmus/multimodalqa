{
 "cells": [
  {
   "cell_type": "code",
   "execution_count": 4,
   "metadata": {},
   "outputs": [],
   "source": [
    "import torch\n",
    "from PIL import Image\n",
    "from transformers import AutoImageProcessor, AutoModel, AutoTokenizer, AutoProcessor, AutoModelForSeq2SeqLM\n",
    "import faiss\n",
    "import numpy as np\n",
    "import json\n",
    "from datasets import load_dataset\n",
    "import os"
   ]
  },
  {
   "cell_type": "code",
   "execution_count": 3,
   "metadata": {},
   "outputs": [
    {
     "name": "stderr",
     "output_type": "stream",
     "text": [
      "/opt/miniconda3/envs/vilbert-mt/lib/python3.11/site-packages/transformers/tokenization_utils_base.py:1601: FutureWarning: `clean_up_tokenization_spaces` was not set. It will be set to `True` by default. This behavior will be depracted in transformers v4.45, and will be then set to `False` by default. For more details check this issue: https://github.com/huggingface/transformers/issues/31884\n",
      "  warnings.warn(\n"
     ]
    }
   ],
   "source": [
    "device = torch.device(\"cuda\" if torch.cuda.is_available() else \"cpu\")\n",
    "model = AutoModel.from_pretrained(\"openai/clip-vit-base-patch16\").to(device)\n",
    "processor = AutoImageProcessor.from_pretrained(\"openai/clip-vit-base-patch16\")\n",
    "tokenizer = AutoTokenizer.from_pretrained(\"openai/clip-vit-base-patch16\")"
   ]
  },
  {
   "cell_type": "code",
   "execution_count": 4,
   "metadata": {},
   "outputs": [
    {
     "name": "stdout",
     "output_type": "stream",
     "text": [
      "/Users/filiprejmus/repos/multimodalqa/baselines/llm_qa\n"
     ]
    }
   ],
   "source": [
    "import os\n",
    "print(os.getcwd())"
   ]
  },
  {
   "cell_type": "code",
   "execution_count": 5,
   "metadata": {},
   "outputs": [
    {
     "name": "stderr",
     "output_type": "stream",
     "text": [
      "/opt/miniconda3/envs/vilbert-mt/lib/python3.11/site-packages/PIL/Image.py:3218: DecompressionBombWarning: Image size (129967200 pixels) exceeds limit of 89478485 pixels, could be decompression bomb DOS attack.\n",
      "  warnings.warn(\n"
     ]
    },
    {
     "name": "stdout",
     "output_type": "stream",
     "text": [
      "Warning: Image not found or corrupt: ../downloads/MMQA/final_dataset_images/17ae0616ac745e70781203267f3a382d.jpg\n",
      "Warning: Image not found or corrupt: ../downloads/MMQA/final_dataset_images/bf201cbbd058ef51aef89b1be4158c2a.jpg\n",
      "Warning: Image not found or corrupt: ../downloads/MMQA/final_dataset_images/ef457a7b3ab437cd78ab9f82dc083048.jpg\n",
      "Warning: Image not found or corrupt: ../downloads/MMQA/final_dataset_images/225c3db49d60b5ef30ed0bfc649ebf78.jpg\n",
      "Warning: Image not found or corrupt: ../downloads/MMQA/final_dataset_images/b413cc1dc4969dcbe4cb6a55c0f2e359.jpg\n",
      "Warning: Image not found or corrupt: ../downloads/MMQA/final_dataset_images/e81b2acfd792b171389c8f47a0e14504.jpg\n",
      "Dataset({\n",
      "    features: ['title', 'url', 'id', 'path', 'image'],\n",
      "    num_rows: 57052\n",
      "})\n",
      "Number of samples: 57052\n"
     ]
    }
   ],
   "source": [
    "import json\n",
    "from datasets import Dataset, Features, Image, Value\n",
    "from PIL import Image as PILImage\n",
    "import os\n",
    "\n",
    "def load_and_validate_image(image_path):\n",
    "    try:\n",
    "        with PILImage.open(image_path) as img:\n",
    "            img.verify()  # Verify that it's a valid image\n",
    "        return image_path\n",
    "    except (IOError, SyntaxError):\n",
    "        return None  # Return None for corrupt or missing images\n",
    "\n",
    "def load_dataset(metadata_file, image_folder):\n",
    "    data = []\n",
    "    \n",
    "    with open(metadata_file, 'r') as f:\n",
    "        for line in f:\n",
    "            item = json.loads(line)\n",
    "            image_path = os.path.join(image_folder, item['path'])\n",
    "            \n",
    "            # Validate and load the image\n",
    "            validated_image_path = load_and_validate_image(image_path)\n",
    "            \n",
    "            if validated_image_path:\n",
    "                item['image'] = validated_image_path\n",
    "                data.append(item)\n",
    "            else:\n",
    "                print(f\"Warning: Image not found or corrupt: {image_path}\")\n",
    "    \n",
    "    return data\n",
    "\n",
    "# Set your file paths\n",
    "metadata_file = '../downloads/MMQA/MMQA_images.jsonl'\n",
    "image_folder = '../downloads/MMQA/final_dataset_images'\n",
    "\n",
    "# Load and process the data\n",
    "dataset_dict = load_dataset(metadata_file, image_folder)\n",
    "\n",
    "# Define the features of your dataset\n",
    "features = Features({\n",
    "    'title': Value('string'),\n",
    "    'url': Value('string'),\n",
    "    'id': Value('string'),\n",
    "    'path': Value('string'),\n",
    "    'image': Image()\n",
    "})\n",
    "\n",
    "# Create the dataset\n",
    "dataset = Dataset.from_dict({k: [d[k] for d in dataset_dict] for k in dataset_dict[0].keys()}, features=features)\n",
    "\n",
    "# Print some information about the dataset\n",
    "print(dataset)\n",
    "print(f\"Number of samples: {len(dataset)}\")\n",
    "\n",
    "# You can now use this dataset or save it\n",
    "# dataset.save_to_disk(\"my_image_dataset\")\n",
    "# Or push to the Hugging Face Hub\n",
    "# dataset.push_to_hub(\"username/dataset-name\")"
   ]
  },
  {
   "cell_type": "code",
   "execution_count": 2,
   "metadata": {},
   "outputs": [
    {
     "name": "stderr",
     "output_type": "stream",
     "text": [
      "/opt/miniconda3/envs/vilbert-mt/lib/python3.11/site-packages/tqdm/auto.py:21: TqdmWarning: IProgress not found. Please update jupyter and ipywidgets. See https://ipywidgets.readthedocs.io/en/stable/user_install.html\n",
      "  from .autonotebook import tqdm as notebook_tqdm\n",
      "/opt/miniconda3/envs/vilbert-mt/lib/python3.11/site-packages/transformers/tokenization_utils_base.py:1601: FutureWarning: `clean_up_tokenization_spaces` was not set. It will be set to `True` by default. This behavior will be depracted in transformers v4.45, and will be then set to `False` by default. For more details check this issue: https://github.com/huggingface/transformers/issues/31884\n",
      "  warnings.warn(\n"
     ]
    }
   ],
   "source": [
    "# Load model directly\n",
    "from transformers import BlipProcessor, BlipForConditionalGeneration\n",
    "\n",
    "processor = BlipProcessor.from_pretrained(\"Salesforce/blip-image-captioning-large\")\n",
    "model = BlipForConditionalGeneration.from_pretrained(\"Salesforce/blip-image-captioning-large\")"
   ]
  },
  {
   "cell_type": "code",
   "execution_count": 7,
   "metadata": {},
   "outputs": [],
   "source": [
    "inputs = processor(dataset[0]['image'], return_tensors=\"pt\")"
   ]
  },
  {
   "cell_type": "code",
   "execution_count": 8,
   "metadata": {},
   "outputs": [
    {
     "name": "stderr",
     "output_type": "stream",
     "text": [
      "/opt/miniconda3/envs/vilbert-mt/lib/python3.11/site-packages/transformers/generation/utils.py:1258: UserWarning: Using the model-agnostic default `max_length` (=20) to control the generation length. We recommend setting `max_new_tokens` to control the maximum length of the generation.\n",
      "  warnings.warn(\n"
     ]
    }
   ],
   "source": [
    "out = model.generate(**inputs)"
   ]
  },
  {
   "cell_type": "code",
   "execution_count": 9,
   "metadata": {},
   "outputs": [
    {
     "name": "stdout",
     "output_type": "stream",
     "text": [
      "a red and white elephant with stars in the middle of it\n"
     ]
    }
   ],
   "source": [
    "print(processor.decode(out[0], skip_special_tokens=True))"
   ]
  },
  {
   "cell_type": "code",
   "execution_count": 10,
   "metadata": {},
   "outputs": [
    {
     "data": {
      "text/plain": [
       "{'title': 'Republican Party (United States)',\n",
       " 'url': 'https://en.wikipedia.org/wiki/Republican_Party_(United_States)',\n",
       " 'id': '35b31d9b4f723f806fd32662ef29edf7',\n",
       " 'path': '35b31d9b4f723f806fd32662ef29edf7.jpg',\n",
       " 'image': <PIL.PngImagePlugin.PngImageFile image mode=RGBA size=227x227>}"
      ]
     },
     "execution_count": 10,
     "metadata": {},
     "output_type": "execute_result"
    }
   ],
   "source": [
    "dataset[0]"
   ]
  },
  {
   "cell_type": "code",
   "execution_count": null,
   "metadata": {},
   "outputs": [],
   "source": []
  }
 ],
 "metadata": {
  "kernelspec": {
   "display_name": "vilbert-mt",
   "language": "python",
   "name": "python3"
  },
  "language_info": {
   "codemirror_mode": {
    "name": "ipython",
    "version": 3
   },
   "file_extension": ".py",
   "mimetype": "text/x-python",
   "name": "python",
   "nbconvert_exporter": "python",
   "pygments_lexer": "ipython3",
   "version": "3.11.9"
  }
 },
 "nbformat": 4,
 "nbformat_minor": 2
}
