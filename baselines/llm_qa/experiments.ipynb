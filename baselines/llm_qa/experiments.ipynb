{
 "cells": [
  {
   "cell_type": "code",
   "execution_count": 1,
   "metadata": {},
   "outputs": [
    {
     "name": "stderr",
     "output_type": "stream",
     "text": [
      "/opt/conda/envs/mmqa/lib/python3.11/site-packages/tqdm/auto.py:21: TqdmWarning: IProgress not found. Please update jupyter and ipywidgets. See https://ipywidgets.readthedocs.io/en/stable/user_install.html\n",
      "  from .autonotebook import tqdm as notebook_tqdm\n",
      "2024-08-19 11:23:17.291162: E external/local_xla/xla/stream_executor/cuda/cuda_fft.cc:479] Unable to register cuFFT factory: Attempting to register factory for plugin cuFFT when one has already been registered\n",
      "2024-08-19 11:23:17.580339: E external/local_xla/xla/stream_executor/cuda/cuda_dnn.cc:10575] Unable to register cuDNN factory: Attempting to register factory for plugin cuDNN when one has already been registered\n",
      "2024-08-19 11:23:17.582323: E external/local_xla/xla/stream_executor/cuda/cuda_blas.cc:1442] Unable to register cuBLAS factory: Attempting to register factory for plugin cuBLAS when one has already been registered\n",
      "2024-08-19 11:23:18.082968: I tensorflow/core/platform/cpu_feature_guard.cc:210] This TensorFlow binary is optimized to use available CPU instructions in performance-critical operations.\n",
      "To enable the following instructions: AVX2 FMA, in other operations, rebuild TensorFlow with the appropriate compiler flags.\n"
     ]
    }
   ],
   "source": [
    "import torch\n",
    "from PIL import Image\n",
    "from transformers import AutoImageProcessor, AutoModel, AutoTokenizer, AutoProcessor, AutoModelForSeq2SeqLM\n",
    "import numpy as np\n",
    "import json\n",
    "from datasets import load_dataset\n",
    "import os\n",
    "from tqdm import tqdm"
   ]
  },
  {
   "cell_type": "code",
   "execution_count": 2,
   "metadata": {},
   "outputs": [
    {
     "name": "stdout",
     "output_type": "stream",
     "text": [
      "cuda\n"
     ]
    },
    {
     "name": "stderr",
     "output_type": "stream",
     "text": [
      "/opt/conda/envs/mmqa/lib/python3.11/site-packages/transformers/tokenization_utils_base.py:1601: FutureWarning: `clean_up_tokenization_spaces` was not set. It will be set to `True` by default. This behavior will be depracted in transformers v4.45, and will be then set to `False` by default. For more details check this issue: https://github.com/huggingface/transformers/issues/31884\n",
      "  warnings.warn(\n"
     ]
    }
   ],
   "source": [
    "device = torch.device(\"cuda\" if torch.cuda.is_available() else \"cpu\")\n",
    "model = AutoModel.from_pretrained(\"openai/clip-vit-base-patch16\").to(device)\n",
    "processor = AutoImageProcessor.from_pretrained(\"openai/clip-vit-base-patch16\")\n",
    "tokenizer = AutoTokenizer.from_pretrained(\"openai/clip-vit-base-patch16\")\n",
    "print(device)"
   ]
  },
  {
   "cell_type": "code",
   "execution_count": 3,
   "metadata": {},
   "outputs": [
    {
     "name": "stdout",
     "output_type": "stream",
     "text": [
      "/home/filiprejmus/multimodalqa/baselines/llm_qa\n"
     ]
    }
   ],
   "source": [
    "import os\n",
    "print(os.getcwd())"
   ]
  },
  {
   "cell_type": "code",
   "execution_count": 4,
   "metadata": {},
   "outputs": [
    {
     "name": "stderr",
     "output_type": "stream",
     "text": [
      "/opt/conda/envs/mmqa/lib/python3.11/site-packages/PIL/Image.py:3368: DecompressionBombWarning: Image size (129967200 pixels) exceeds limit of 89478485 pixels, could be decompression bomb DOS attack.\n",
      "  warnings.warn(\n"
     ]
    },
    {
     "name": "stdout",
     "output_type": "stream",
     "text": [
      "Warning: Image not found or corrupt: ../downloads/MMQA/final_dataset_images/17ae0616ac745e70781203267f3a382d.jpg\n",
      "Warning: Image not found or corrupt: ../downloads/MMQA/final_dataset_images/bf201cbbd058ef51aef89b1be4158c2a.jpg\n",
      "Warning: Image not found or corrupt: ../downloads/MMQA/final_dataset_images/ef457a7b3ab437cd78ab9f82dc083048.jpg\n",
      "Warning: Image not found or corrupt: ../downloads/MMQA/final_dataset_images/225c3db49d60b5ef30ed0bfc649ebf78.jpg\n",
      "Warning: Image not found or corrupt: ../downloads/MMQA/final_dataset_images/b413cc1dc4969dcbe4cb6a55c0f2e359.jpg\n",
      "Warning: Image not found or corrupt: ../downloads/MMQA/final_dataset_images/e81b2acfd792b171389c8f47a0e14504.jpg\n",
      "Dataset({\n",
      "    features: ['title', 'url', 'id', 'path', 'image'],\n",
      "    num_rows: 57052\n",
      "})\n",
      "Number of samples: 57052\n"
     ]
    }
   ],
   "source": [
    "import json\n",
    "from datasets import Dataset, Features, Image, Value\n",
    "from PIL import Image as PILImage\n",
    "import os\n",
    "\n",
    "def load_and_validate_image(image_path):\n",
    "    try:\n",
    "        with PILImage.open(image_path) as img:\n",
    "            img.verify()  # Verify that it's a valid image\n",
    "        return image_path\n",
    "    except (IOError, SyntaxError):\n",
    "        return None  # Return None for corrupt or missing images\n",
    "\n",
    "def load_dataset(metadata_file, image_folder):\n",
    "    data = []\n",
    "    \n",
    "    with open(metadata_file, 'r') as f:\n",
    "        for line in f:\n",
    "            item = json.loads(line)\n",
    "            image_path = os.path.join(image_folder, item['path'])\n",
    "            \n",
    "            # Validate and load the image\n",
    "            validated_image_path = load_and_validate_image(image_path)\n",
    "            \n",
    "            if validated_image_path:\n",
    "                item['image'] = validated_image_path\n",
    "                data.append(item)\n",
    "            else:\n",
    "                print(f\"Warning: Image not found or corrupt: {image_path}\")\n",
    "    \n",
    "    return data\n",
    "\n",
    "# Set your file paths\n",
    "metadata_file = '../downloads/MMQA/MMQA_images.jsonl'\n",
    "image_folder = '../downloads/MMQA/final_dataset_images'\n",
    "\n",
    "# Load and process the data\n",
    "dataset_dict = load_dataset(metadata_file, image_folder)\n",
    "\n",
    "# Define the features of your dataset\n",
    "features = Features({\n",
    "    'title': Value('string'),\n",
    "    'url': Value('string'),\n",
    "    'id': Value('string'),\n",
    "    'path': Value('string'),\n",
    "    'image': Image()\n",
    "})\n",
    "\n",
    "# Create the dataset\n",
    "dataset = Dataset.from_dict({k: [d[k] for d in dataset_dict] for k in dataset_dict[0].keys()}, features=features)\n",
    "\n",
    "# Print some information about the dataset\n",
    "print(dataset)\n",
    "print(f\"Number of samples: {len(dataset)}\")\n",
    "\n",
    "# You can now use this dataset or save it\n",
    "# dataset.save_to_disk(\"my_image_dataset\")\n",
    "# Or push to the Hugging Face Hub\n",
    "# dataset.push_to_hub(\"username/dataset-name\")"
   ]
  },
  {
   "cell_type": "code",
   "execution_count": 5,
   "metadata": {},
   "outputs": [],
   "source": [
    "# Load model directly\n",
    "from transformers import BlipProcessor, BlipForConditionalGeneration\n",
    "\n",
    "processor = BlipProcessor.from_pretrained(\"Salesforce/blip-image-captioning-large\")\n",
    "model = BlipForConditionalGeneration.from_pretrained(\"Salesforce/blip-image-captioning-large\").to(\"cuda\")"
   ]
  },
  {
   "cell_type": "code",
   "execution_count": 11,
   "metadata": {},
   "outputs": [],
   "source": [
    "inputs = processor(dataset[0:10]['image'], return_tensors=\"pt\").to(\"cuda\")"
   ]
  },
  {
   "cell_type": "code",
   "execution_count": 12,
   "metadata": {},
   "outputs": [
    {
     "name": "stderr",
     "output_type": "stream",
     "text": [
      "/opt/conda/envs/mmqa/lib/python3.11/site-packages/transformers/generation/utils.py:1258: UserWarning: Using the model-agnostic default `max_length` (=20) to control the generation length. We recommend setting `max_new_tokens` to control the maximum length of the generation.\n",
      "  warnings.warn(\n"
     ]
    }
   ],
   "source": [
    "out = model.generate(**inputs)"
   ]
  },
  {
   "cell_type": "code",
   "execution_count": 16,
   "metadata": {},
   "outputs": [
    {
     "name": "stdout",
     "output_type": "stream",
     "text": [
      "smiling woman with blonde hair and blue sweater standing in front of water\n"
     ]
    }
   ],
   "source": [
    "print(processor.decode(out[2], skip_special_tokens=True))"
   ]
  },
  {
   "cell_type": "code",
   "execution_count": 33,
   "metadata": {},
   "outputs": [
    {
     "name": "stderr",
     "output_type": "stream",
     "text": [
      "/opt/conda/envs/mmqa/lib/python3.11/site-packages/PIL/Image.py:3368: DecompressionBombWarning: Image size (129967200 pixels) exceeds limit of 89478485 pixels, could be decompression bomb DOS attack.\n",
      "  warnings.warn(\n"
     ]
    }
   ],
   "source": [
    "import json\n",
    "from tqdm import tqdm\n",
    "import torch\n",
    "from transformers import AutoProcessor, AutoModelForCausalLM\n",
    "\n",
    "# Load your model and processor\n",
    "processor = AutoProcessor.from_pretrained(\"your_model_name\")\n",
    "model = AutoModelForCausalLM.from_pretrained(\"your_model_name\").to(\"cuda\")\n",
    "\n",
    "def generate_descriptions(dataset, start_index, batch_size=100):\n",
    "    end_index = min(start_index + batch_size, len(dataset))\n",
    "    batch = dataset[start_index:end_index]\n",
    "    descriptions = []\n",
    "    try:\n",
    "        inputs = processor(images=batch['image'], return_tensors=\"pt\", padding=True).to(\"cuda\")\n",
    "        with torch.no_grad():\n",
    "            out = model.generate(**inputs)\n",
    "        \n",
    "        for o in out:\n",
    "            description = processor.decode(o, skip_special_tokens=True)\n",
    "            descriptions.append(description)\n",
    "        return descriptions\n",
    "    except Exception as e:\n",
    "        print(f\"Error processing batch starting at index {start_index}: {str(e)}\")\n",
    "        return [None] * (end_index - start_index)\n",
    "\n",
    "def process_dataset(dataset, output_file, start_index=0, batch_size=100):\n",
    "    with open(output_file, 'a') as f:\n",
    "        for i in tqdm(range(start_index, len(dataset), batch_size), total=(len(dataset)-start_index)//batch_size + 1):\n",
    "            end_index = min(i + batch_size, len(dataset))\n",
    "            descriptions = generate_descriptions(dataset, i, batch_size)\n",
    "            \n",
    "            for j, description in enumerate(descriptions):\n",
    "                item = dataset[i + j]\n",
    "                if description is not None:\n",
    "                    result = {\n",
    "                        \"id\": item['id'],\n",
    "                        \"title\": item['title'],\n",
    "                        \"url\": item['url'],\n",
    "                        \"image_path\": item['image'],\n",
    "                        \"description\": description\n",
    "                    }\n",
    "                    json.dump(result, f)\n",
    "                    f.write('\\n')\n",
    "                    f.flush()  # Ensure the write is committed to disk\n",
    "\n",
    "            print(f\"Processed items {i} to {end_index-1}. Last processed ID: {dataset[end_index-1]['id']}\")\n",
    "\n",
    "# Set your output file\n",
    "output_file = \"descriptions_progress.jsonl\"\n",
    "\n",
    "# Process the dataset\n",
    "process_dataset(dataset, output_file, start_index=0, batch_size=100)\n",
    "\n",
    "print(f\"Processing complete. Results saved to {output_file}\")"
   ]
  },
  {
   "cell_type": "code",
   "execution_count": null,
   "metadata": {},
   "outputs": [],
   "source": [
    "dataset = dataset.cast_column(\"description\", Value(\"string\"))\n"
   ]
  },
  {
   "cell_type": "code",
   "execution_count": null,
   "metadata": {},
   "outputs": [],
   "source": [
    "print(dataset)\n",
    "print(f\"Number of samples: {len(dataset)}\")\n",
    "print(f\"Sample entry: {dataset[0]}\")"
   ]
  },
  {
   "cell_type": "code",
   "execution_count": 29,
   "metadata": {},
   "outputs": [
    {
     "name": "stdout",
     "output_type": "stream",
     "text": [
      "Dataset({\n",
      "    features: ['title', 'url', 'id', 'path', 'image'],\n",
      "    num_rows: 57052\n",
      "})\n"
     ]
    }
   ],
   "source": [
    "print(dataset)"
   ]
  },
  {
   "cell_type": "code",
   "execution_count": 30,
   "metadata": {},
   "outputs": [
    {
     "name": "stdout",
     "output_type": "stream",
     "text": [
      "{'title': 'Republican Party (United States)', 'url': 'https://en.wikipedia.org/wiki/Republican_Party_(United_States)', 'id': '35b31d9b4f723f806fd32662ef29edf7', 'path': '35b31d9b4f723f806fd32662ef29edf7.jpg', 'image': <PIL.PngImagePlugin.PngImageFile image mode=RGBA size=227x227 at 0x7F21FEFB3E90>}\n"
     ]
    }
   ],
   "source": [
    "print(dataset[0])"
   ]
  },
  {
   "cell_type": "code",
   "execution_count": null,
   "metadata": {},
   "outputs": [],
   "source": []
  }
 ],
 "metadata": {
  "kernelspec": {
   "display_name": "vilbert-mt",
   "language": "python",
   "name": "python3"
  },
  "language_info": {
   "codemirror_mode": {
    "name": "ipython",
    "version": 3
   },
   "file_extension": ".py",
   "mimetype": "text/x-python",
   "name": "python",
   "nbconvert_exporter": "python",
   "pygments_lexer": "ipython3",
   "version": "3.11.9"
  }
 },
 "nbformat": 4,
 "nbformat_minor": 2
}
